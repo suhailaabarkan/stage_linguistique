{
 "cells": [
  {
   "cell_type": "markdown",
   "metadata": {},
   "source": [
    "<p style=\"color:#FFF; background:#951587; padding:12px; font-size:20px; font-style:italic; text-align:center\">\n",
    "<span style=\"width:100%; display:inline-block; text-align:left\">ABARKAN Suhaïla</span>\n",
    "<span style=\"font-size:48px; font-style:normal\"><b>Conte de l'âne triste (V2)</b></span><br> \n",
    "<span style=\"width:49%; display:inline-block; text-align:left\">06/06/2024 - 12/07/2024</span>\n",
    "<span style=\"width:49%; display:inline-block; text-align:right\">CMI ISI</span></p>"
   ]
  },
  {
   "cell_type": "markdown",
   "metadata": {},
   "source": [
    "---\n",
    "<h2 style=\"padding:16px; color:#FFF; background:#951587\">Imports nécessaires</h2>"
   ]
  },
  {
   "cell_type": "code",
   "execution_count": 17,
   "metadata": {},
   "outputs": [],
   "source": [
    "import pandas as pd\n",
    "import re\n",
    "import os\n",
    "import requests"
   ]
  },
  {
   "cell_type": "markdown",
   "metadata": {},
   "source": [
    "---\n",
    "<h2 style=\"padding:16px; color:#FFF; background:#951587\">Création de la base de données sous un fichier .csv à l'aide de fichiers Excel</h2>"
   ]
  },
  {
   "cell_type": "code",
   "execution_count": 18,
   "metadata": {},
   "outputs": [],
   "source": [
    "def list_files(directory):\n",
    "    \"\"\"Récupération de tous les fichiers excel (.xls et .xlsx) dans le dossier \"directory\".\"\"\"\n",
    "    return [os.path.join(directory, f) for f in os.listdir(directory) if f.endswith(('.xls', '.xlsx'))]"
   ]
  },
  {
   "cell_type": "markdown",
   "metadata": {},
   "source": [
    "`Indication :` Pour le bon déroulement de la fonction suivante appelée **extract_info**, il faudra impérativement conserver la même façon de nommer tous les fichiers excel de l'enquête (les fichiers dans le dossier \"reponses\")."
   ]
  },
  {
   "cell_type": "code",
   "execution_count": 19,
   "metadata": {},
   "outputs": [],
   "source": [
    "def extract_info(file):\n",
    "    \"\"\"Extraction du numéro INSEE et de l'identifiant du locuteur dans le nom des fichiers Excel.\"\"\"\n",
    "    match = re.match(r'PaRL_(\\d{5})_(e\\d{2})_Questionnaire_Conte', file)\n",
    "    if match:\n",
    "        return match.groups()\n",
    "    return None, None  # dans le cas où les infos sont pas/mal renseignées"
   ]
  },
  {
   "cell_type": "markdown",
   "metadata": {},
   "source": [
    "`Indication :` Pour le bon déroulement de la fonction suivante appelée **filter_excel**, il faudra impérativement conserver la même façon de remplir tous les fichiers excel de l'enquête (les fichiers dans le dossier \"reponses\")."
   ]
  },
  {
   "cell_type": "code",
   "execution_count": 20,
   "metadata": {},
   "outputs": [],
   "source": [
    "def filter_excel(file):\n",
    "    \"\"\"Filtrage des fichiers Excel pour récupérer les informations du conte et du locuteur.\"\"\"\n",
    "    df = pd.read_excel(file, sheet_name=0)\n",
    "    # lignes du conte commençant par des numéros (1, 2, ..., 44)\n",
    "    conte_df = df[df.iloc[:, 0].astype(str).str.match(r'^\\d+.*')]\n",
    "    # lignes contenant les infos du locuteur\n",
    "    locuteur_df = df.iloc[-8:, 2].tolist()\n",
    "    return conte_df, locuteur_df"
   ]
  },
  {
   "cell_type": "code",
   "execution_count": 21,
   "metadata": {},
   "outputs": [],
   "source": [
    "def get_geo_info(code_insee):\n",
    "    \"\"\"Récupération des informations géographiques selon le code INSEE, via une api.\"\"\"\n",
    "    url = f'https://geo.api.gouv.fr/communes/{code_insee}?fields=nom,code,codesPostaux,surface,population,centre,contour,departement'\n",
    "    response = requests.get(url)\n",
    "    data = response.json()\n",
    "    return {\n",
    "        'ville': data['nom'],\n",
    "        'departement': data['departement']['nom'],\n",
    "        'x': data['centre']['coordinates'][0],\n",
    "        'y': data['centre']['coordinates'][1]\n",
    "    }"
   ]
  },
  {
   "cell_type": "markdown",
   "metadata": {},
   "source": [
    "`Indication` : Dé-commentez la fonction **split_phrase**, ainsi que deux lignes en commentaires dans **create_csv**\n",
    "si vous souhaitez un découpage par mots pour chaque phrase dans la création de ce fichier csv."
   ]
  },
  {
   "cell_type": "code",
   "execution_count": 22,
   "metadata": {},
   "outputs": [],
   "source": [
    "#def split_phrase(phrase):\n",
    "#   \"\"\"Séparation mot à mot d'une phrase.\"\"\"\n",
    "#   mots = re.split(r\"[^\\w']+\", phrase.replace(',', '').replace(\"'\", ' '))\n",
    "#   return {f'mot_{i+1}': mot for i, mot in enumerate(mots)}"
   ]
  },
  {
   "cell_type": "code",
   "execution_count": 23,
   "metadata": {},
   "outputs": [],
   "source": [
    "def create_csv(files, output_csv='bdd_conte_v2.csv'):\n",
    "    \"\"\"Création de fichier .csv sous 'bdd_conte_v2.csv' en remplissant avec les informations des fichier Excel.\"\"\"\n",
    "    columns = ['code_INSEE', 'ville', 'departement', 'x', 'y', 'identifiant', 'age', 'lieu_de_naissance',\n",
    "               'sexe', 'lieu_de_residence', 'parler_local', 'commune_apprentissage', 'profession',\n",
    "               'adresse_courriel', 'num_phrase', 'phrase', 'commentaire']\n",
    "    \n",
    "    df_output = pd.DataFrame(columns=columns)\n",
    "\n",
    "    for file in files:\n",
    "        df, locuteur_info = filter_excel(file)\n",
    "        code_insee, identifiant = extract_info(file.split('/')[-1])\n",
    "        geo_info = get_geo_info(code_insee)\n",
    "        new_rows = []\n",
    "        for _, row in df.iterrows():\n",
    "            num_phrase = row.iloc[0]\n",
    "            phrase = row.iloc[2]\n",
    "            #mots = split_phrase(phrase)\n",
    "            new_row = {\n",
    "                'code_INSEE': code_insee,\n",
    "                'ville': geo_info['ville'],\n",
    "                'departement': geo_info['departement'],\n",
    "                'x': geo_info['x'],\n",
    "                'y': geo_info['y'],\n",
    "                'identifiant': identifiant,\n",
    "                'age': locuteur_info[0],\n",
    "                'lieu_de_naissance': locuteur_info[1],\n",
    "                'sexe': locuteur_info[2],\n",
    "                'lieu_de_residence': locuteur_info[3],\n",
    "                'parler_local': locuteur_info[4],\n",
    "                'commune_apprentissage': locuteur_info[5],\n",
    "                'profession': locuteur_info[6],\n",
    "                'adresse_courriel': locuteur_info[7],\n",
    "                'num_phrase': num_phrase,\n",
    "                'phrase': phrase,\n",
    "                'commentaire': row.iloc[3],\n",
    "                #**mots\n",
    "            }\n",
    "            new_rows.append(new_row)\n",
    "        df_output = pd.concat(\n",
    "            [df_output, pd.DataFrame(new_rows)], ignore_index=True)\n",
    "\n",
    "    df_output.to_csv(output_csv, index=False)\n",
    "    print(f\"Base de données créée et enregistrée sous {output_csv}\")"
   ]
  },
  {
   "cell_type": "markdown",
   "metadata": {},
   "source": [
    "<h4 style=\"padding:16px; color:#FFF; background:#C180BA\">Création du fichier .csv</h4>"
   ]
  },
  {
   "cell_type": "markdown",
   "metadata": {},
   "source": [
    "`Indications` : Si le dossier \"reponses\" n'existe pas, merci de le créer et de mettre toutes les réponses de l'enquête (sous format excel) à l'intérieur, afin de faciliter l'accés à ces fichiers pour la création de la base de données. Ce dossier doit se trouver au même endroit que ce notebook."
   ]
  },
  {
   "cell_type": "code",
   "execution_count": 24,
   "metadata": {},
   "outputs": [
    {
     "name": "stderr",
     "output_type": "stream",
     "text": [
      "/var/folders/90/ydgs6yxx0h3d38dgcdtcshsw0000gn/T/ipykernel_3107/460545148.py:39: FutureWarning: The behavior of DataFrame concatenation with empty or all-NA entries is deprecated. In a future version, this will no longer exclude empty or all-NA columns when determining the result dtypes. To retain the old behavior, exclude the relevant entries before the concat operation.\n",
      "  df_output = pd.concat(\n"
     ]
    },
    {
     "name": "stdout",
     "output_type": "stream",
     "text": [
      "Base de données créée et enregistrée sous bdd_conte_v2.csv\n"
     ]
    }
   ],
   "source": [
    "directory = 'reponses'\n",
    "files = list_files(directory)\n",
    "create_csv(files)"
   ]
  }
 ],
 "metadata": {
  "kernelspec": {
   "display_name": "base",
   "language": "python",
   "name": "python3"
  },
  "language_info": {
   "codemirror_mode": {
    "name": "ipython",
    "version": 3
   },
   "file_extension": ".py",
   "mimetype": "text/x-python",
   "name": "python",
   "nbconvert_exporter": "python",
   "pygments_lexer": "ipython3",
   "version": "3.11.4"
  }
 },
 "nbformat": 4,
 "nbformat_minor": 2
}
